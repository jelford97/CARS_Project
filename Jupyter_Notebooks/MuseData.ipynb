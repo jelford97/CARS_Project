{
 "cells": [
  {
   "cell_type": "code",
   "execution_count": 1,
   "id": "b32c9056",
   "metadata": {},
   "outputs": [],
   "source": [
    "from astropy.io import fits\n",
    "import numpy as np\n",
    "import matplotlib.pyplot as plt"
   ]
  },
  {
   "cell_type": "code",
   "execution_count": 26,
   "id": "d92fc5ac",
   "metadata": {},
   "outputs": [],
   "source": [
    "hdu=fits.open('/Users/jelford/Documents/PhD_Work/CARS_Data/HE0108/HE0108-4743.MUSE.WFM-NOAO.maps-full.fits')"
   ]
  },
  {
   "cell_type": "code",
   "execution_count": 60,
   "id": "787cced8",
   "metadata": {},
   "outputs": [],
   "source": [
    "hdr=hdu[13].header"
   ]
  },
  {
   "cell_type": "code",
   "execution_count": 61,
   "id": "45a2eadf",
   "metadata": {},
   "outputs": [
    {
     "name": "stdout",
     "output_type": "stream",
     "text": [
      "XTENSION= 'IMAGE   '           / Image extension                                BITPIX  =                  -32 / array data type                                NAXIS   =                    2 / number of array dimensions                     NAXIS1  =                  318                                                  NAXIS2  =                  315                                                  PCOUNT  =                    0 / number of parameters                           GCOUNT  =                    1 / number of groups                               EXTNAME = 'HBETA   '           / extension name                                 BUNIT   = 'erg/s/cm**2'                                                         CRPIX1  =    161.2174530029297                                                  CRPIX2  =    160.5740356445312                                                  CD1_1   = -5.5555555555555E-05                                                  CD1_2   =                  0.0                                                  CD2_1   =                  0.0                                                  CD2_2   = 5.55555555555555E-05                                                  CUNIT1  = 'deg     '                                                            CUNIT2  = 'deg     '                                                            CTYPE1  = 'RA---TAN'                                                            CTYPE2  = 'DEC--TAN'                                                            CRVAL1  =       17.79029597146                                                  CRVAL2  =      -47.45980512234                                                  CHECKSUM= 'iTobiSmZiSmaiSmY'   / HDU checksum updated 2021-09-15T20:46:03       DATASUM = '3754391980'         / data unit checksum updated 2021-09-15T20:46:03 END                                                                                                                                                                                                                                                                                                                                                                                                                                                                                                                                                                                                                                                                                                                                                                                                                                                                                                                                                                                                                                                                             \n"
     ]
    }
   ],
   "source": [
    "print(hdr)"
   ]
  },
  {
   "cell_type": "code",
   "execution_count": 62,
   "id": "328ea1a9",
   "metadata": {},
   "outputs": [],
   "source": [
    "data=hdu[13].data"
   ]
  },
  {
   "cell_type": "code",
   "execution_count": 63,
   "id": "d6d909c8",
   "metadata": {},
   "outputs": [
    {
     "data": {
      "text/plain": [
       "<matplotlib.image.AxesImage at 0x7fb250316460>"
      ]
     },
     "execution_count": 63,
     "metadata": {},
     "output_type": "execute_result"
    },
    {
     "data": {
      "image/png": "[encoded data removed]",
      "text/plain": [
       "<Figure size 432x288 with 1 Axes>"
      ]
     },
     "metadata": {
      "needs_background": "light"
     },
     "output_type": "display_data"
    }
   ],
   "source": [
    "plt.imshow(data)"
   ]
  },
  {
   "cell_type": "code",
   "execution_count": 96,
   "id": "f70ac8d0",
   "metadata": {},
   "outputs": [
    {
     "data": {
      "text/plain": [
       "1505.4795"
      ]
     },
     "execution_count": 96,
     "metadata": {},
     "output_type": "execute_result"
    }
   ],
   "source": [
    "np.nansum(np.abs(data))"
   ]
  },
  {
   "cell_type": "code",
   "execution_count": 88,
   "id": "04f316ed",
   "metadata": {},
   "outputs": [],
   "source": [
    "hdu1=fits.open('/Users/jelford/Documents/HE0108-4743.MUSE.WFM-NOAO.maps-binned.fits')\n",
    "hdr1=hdu1[9].header"
   ]
  },
  {
   "cell_type": "code",
   "execution_count": 89,
   "id": "7bea8f33",
   "metadata": {},
   "outputs": [
    {
     "data": {
      "text/plain": [
       "XTENSION= 'IMAGE   '           / Image extension                                \n",
       "BITPIX  =                  -32 / array data type                                \n",
       "NAXIS   =                    2 / number of array dimensions                     \n",
       "NAXIS1  =                   39                                                  \n",
       "NAXIS2  =                   39                                                  \n",
       "PCOUNT  =                    0 / number of parameters                           \n",
       "GCOUNT  =                    1 / number of groups                               \n",
       "EXTNAME = 'HALPHA  '           / extension name                                 \n",
       "BUNIT   = 'erg/s/cm**2'                                                         \n",
       "CRPIX1  =    20.15218162536621                                                  \n",
       "CRPIX2  =    20.07175445556641                                                  \n",
       "CD1_1   = -0.00044444444444444                                                  \n",
       "CD1_2   =                  0.0                                                  \n",
       "CD2_1   =                  0.0                                                  \n",
       "CD2_2   = 0.000444444444444444                                                  \n",
       "CUNIT1  = 'deg     '                                                            \n",
       "CUNIT2  = 'deg     '                                                            \n",
       "CTYPE1  = 'RA---TAN'                                                            \n",
       "CTYPE2  = 'DEC--TAN'                                                            \n",
       "CRVAL1  =       17.79029597146                                                  \n",
       "CRVAL2  =      -47.45980512234                                                  \n",
       "CHECKSUM= 'EcTREaSOEaSOEaSO'   / HDU checksum updated 2021-09-15T20:46:03       \n",
       "DATASUM = '1983250532'         / data unit checksum updated 2021-09-15T20:46:03 "
      ]
     },
     "execution_count": 89,
     "metadata": {},
     "output_type": "execute_result"
    }
   ],
   "source": [
    "hdr1"
   ]
  },
  {
   "cell_type": "code",
   "execution_count": 90,
   "id": "1a37112e",
   "metadata": {},
   "outputs": [],
   "source": [
    "data1=hdu1[9].data"
   ]
  },
  {
   "cell_type": "code",
   "execution_count": 91,
   "id": "11fd88aa",
   "metadata": {},
   "outputs": [
    {
     "data": {
      "text/plain": [
       "<matplotlib.image.AxesImage at 0x7fb2101ce070>"
      ]
     },
     "execution_count": 91,
     "metadata": {},
     "output_type": "execute_result"
    },
    {
     "data": {
      "image/png": "[encoded data removed]",
      "text/plain": [
       "<Figure size 432x288 with 1 Axes>"
      ]
     },
     "metadata": {
      "needs_background": "light"
     },
     "output_type": "display_data"
    }
   ],
   "source": [
    "plt.imshow(data1)"
   ]
  },
  {
   "cell_type": "code",
   "execution_count": 97,
   "id": "9dd9f1d4",
   "metadata": {},
   "outputs": [
    {
     "data": {
      "text/plain": [
       "435586.62"
      ]
     },
     "execution_count": 97,
     "metadata": {},
     "output_type": "execute_result"
    }
   ],
   "source": [
    "np.nansum(np.abs(data1))"
   ]
  },
  {
   "cell_type": "code",
   "execution_count": 98,
   "id": "8646b6c7",
   "metadata": {},
   "outputs": [],
   "source": [
    "hdu2=fits.open('/Users/jelford/Documents/HE0433-1028.MUSE.WFM-NOAO.maps-full.fits')\n",
    "hdr2=hdu2[9].header"
   ]
  },
  {
   "cell_type": "code",
   "execution_count": 99,
   "id": "631e0b82",
   "metadata": {},
   "outputs": [
    {
     "name": "stdout",
     "output_type": "stream",
     "text": [
      "XTENSION= 'IMAGE   '           / Image extension                                BITPIX  =                  -32 / array data type                                NAXIS   =                    2 / number of array dimensions                     NAXIS1  =                  318                                                  NAXIS2  =                  316                                                  PCOUNT  =                    0 / number of parameters                           GCOUNT  =                    1 / number of groups                               EXTNAME = 'HALPHA  '           / extension name                                 BUNIT   = 'erg/s/cm**2'                                                         CRPIX1  =    151.2324523925781                                                  CRPIX2  =    158.5137786865234                                                  CD1_1   = -5.5555555555555E-05                                                  CD1_2   =                  0.0                                                  CD2_1   =                  0.0                                                  CD2_2   = 5.55555555555555E-05                                                  CUNIT1  = 'deg     '                                                            CUNIT2  = 'deg     '                                                            CTYPE1  = 'RA---TAN'                                                            CTYPE2  = 'DEC--TAN'                                                            CRVAL1  =       69.09291061972                                                  CRVAL2  =      -10.37610748376                                                  CHECKSUM= 'h3cmk1Zjh1ajh1Yj'   / HDU checksum updated 2021-09-15T20:50:10       DATASUM = '990991523'          / data unit checksum updated 2021-09-15T20:50:10 END                                                                                                                                                                                                                                                                                                                                                                                                                                                                                                                                                                                                                                                                                                                                                                                                                                                                                                                                                                                                                                                                             \n"
     ]
    }
   ],
   "source": [
    "print(hdr2)"
   ]
  },
  {
   "cell_type": "code",
   "execution_count": 100,
   "id": "efa81ba0",
   "metadata": {},
   "outputs": [],
   "source": [
    "data2=hdu2[9].data"
   ]
  },
  {
   "cell_type": "code",
   "execution_count": 101,
   "id": "ab41901c",
   "metadata": {},
   "outputs": [
    {
     "data": {
      "text/plain": [
       "<matplotlib.image.AxesImage at 0x7fb2201dbca0>"
      ]
     },
     "execution_count": 101,
     "metadata": {},
     "output_type": "execute_result"
    },
    {
     "data": {
      "image/png": "[encoded data removed]",
      "text/plain": [
       "<Figure size 432x288 with 1 Axes>"
      ]
     },
     "metadata": {
      "needs_background": "light"
     },
     "output_type": "display_data"
    }
   ],
   "source": [
    "plt.imshow(data2)"
   ]
  },
  {
   "cell_type": "code",
   "execution_count": 7,
   "id": "b3e85a7e",
   "metadata": {},
   "outputs": [],
   "source": [
    "cubehdu=fits.open('/Users/jelford/Documents/PhD_Work/CARS_Data/HE1029/HE1029-1831.full_mask.fits')"
   ]
  },
  {
   "cell_type": "code",
   "execution_count": 8,
   "id": "767311ed",
   "metadata": {},
   "outputs": [],
   "source": [
    "cdata=cubehdu[0].data"
   ]
  },
  {
   "cell_type": "code",
   "execution_count": 9,
   "id": "33caaf27",
   "metadata": {},
   "outputs": [],
   "source": [
    "chdr=cubehdu[0].header"
   ]
  },
  {
   "cell_type": "code",
   "execution_count": 10,
   "id": "a0308c06",
   "metadata": {},
   "outputs": [
    {
     "name": "stdout",
     "output_type": "stream",
     "text": [
      "SIMPLE  =                    T / conforms to FITS standard                      BITPIX  =                   16 / array data type                                NAXIS   =                    2 / number of array dimensions                     NAXIS1  =                  317                                                  NAXIS2  =                  314                                                  EXTEND  =                    T                                                  END                                                                                                                                                                                                                                                                                                                                                                                                                                                                                                                                                                                                                                                                                                                                                                                                                                                                                                                                                                                                                                                                                                                                                                                                                                                                                                                                                                                                                                                                                                                                                                                                                                                                                                                                                                                                                                                                                                                                                                                                                                                                                                                                                                                                                                                                                                                                                                                                                                                                                             \n"
     ]
    }
   ],
   "source": [
    "print(chdr)"
   ]
  },
  {
   "cell_type": "code",
   "execution_count": 11,
   "id": "67cb6d36",
   "metadata": {},
   "outputs": [
    {
     "name": "stdout",
     "output_type": "stream",
     "text": [
      "[[0 1 1 ... 0 0 0]\n",
      " [0 1 1 ... 0 0 0]\n",
      " [0 1 1 ... 0 0 0]\n",
      " ...\n",
      " [0 0 0 ... 0 0 0]\n",
      " [0 0 0 ... 0 0 0]\n",
      " [0 0 0 ... 0 0 0]]\n"
     ]
    }
   ],
   "source": [
    "print(cdata)"
   ]
  },
  {
   "cell_type": "code",
   "execution_count": null,
   "id": "f002e62e",
   "metadata": {},
   "outputs": [],
   "source": []
  }
 ],
 "metadata": {
  "kernelspec": {
   "display_name": "Python 3 (ipykernel)",
   "language": "python",
   "name": "python3"
  },
  "language_info": {
   "codemirror_mode": {
    "name": "ipython",
    "version": 3
   },
   "file_extension": ".py",
   "mimetype": "text/x-python",
   "name": "python",
   "nbconvert_exporter": "python",
   "pygments_lexer": "ipython3",
   "version": "3.9.12"
  }
 },
 "nbformat": 4,
 "nbformat_minor": 5
}
