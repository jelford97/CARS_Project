{
 "cells": [
  {
   "cell_type": "code",
   "execution_count": 15,
   "metadata": {},
   "outputs": [],
   "source": [
    "from astropy.io import fits\n",
    "import matplotlib.pyplot as plt\n",
    "import numpy as np\n",
    "from scipy import ndimage\n",
    "from scipy import integrate\n",
    "from sauron_colormap import sauron\n",
    "import pandas as pd\n",
    "import math"
   ]
  },
  {
   "cell_type": "code",
   "execution_count": 16,
   "metadata": {},
   "outputs": [],
   "source": [
    "def spectrum(cube):\n",
    "    spec=np.nansum(np.nansum(cube,axis=3),axis=2)\n",
    "    return spec"
   ]
  },
  {
   "cell_type": "code",
   "execution_count": 17,
   "metadata": {},
   "outputs": [
    {
     "name": "stdout",
     "output_type": "stream",
     "text": [
      "(1, 79, 128, 128)\n"
     ]
    }
   ],
   "source": [
    "new=fits.open('Documents/CARS/HE10291831/HE1029_29clean.fits')\n",
    "newdata=new[0].data\n",
    "newhdr=new[0].header\n",
    "print(newdata.shape)"
   ]
  },
  {
   "cell_type": "code",
   "execution_count": 26,
   "metadata": {},
   "outputs": [
    {
     "name": "stdout",
     "output_type": "stream",
     "text": [
      "SIMPLE  =                    T /Standard FITS                                   BITPIX  =                  -32 /Floating point (32 bit)                         NAXIS   =                    1                                                  NAXIS1  =                   79                                                  EXTEND  =                    T                                                  BSCALE  =   1.000000000000E+00 /PHYSICAL = PIXEL*BSCALE + BZERO                 BZERO   =   0.000000000000E+00                                                  BTYPE   = 'Intensity'                                                           OBJECT  = '        '                                                            BUNIT   = '        '           /Brightness (pixel) unit                         PC1_1   =   1.000000000000E+00                                                  CTYPE1  = 'FREQ    '                                                            CRVAL1  =   3.414469548517E+11                                                  CDELT1  =  -2.365700646130E+07                                                  CRPIX1  =   1.000000000000E+00                                                  CUNIT1  = 'Hz      '                                                            RESTFRQ =   3.546096057970E+11 /Rest Frequency (Hz)                             SPECSYS = 'BARYCENT'           /Spectral reference frame                        ALTRVAL =   1.112790916032E+07 /Alternate frequency reference value             ALTRPIX =   1.000000000000E+00 /Alternate frequency reference pixel             VELREF  =                  258 /1 LSR, 2 HEL, 3 OBS, +256 Radio                 COMMENT casacore non-standard usage: 4 LSD, 5 GEO, 6 SOU, 7 GAL                 INIMAGE = 'HE1029_29clean.fits' /name input image                               POSITION= '10:31:57.319-18d46m33.301' /extraction position                      PROFTYPE= 'Rectangle Region Profile' /the profile type                          PLOTTYPE= 'Mean    '           /the plot type                                   DATE    = '2022-02-02T15:54:48.448000' /Date FITS file was written              TIMESYS = 'UTC     '           /Time system for HDU                             ORIGIN  = 'CASA Viewer / Spectral Profiler'                                     END                                                                                                                                                                                                                                                                                                                                                                                                                                                                                                                                                                             \n"
     ]
    }
   ],
   "source": [
    "casa=fits.open('/home/jacob/Documents/CARS/HE10291831/CASA')\n",
    "casadata=casa[0].data\n",
    "casahdr=casa[0].header\n",
    "print(casahdr)"
   ]
  },
  {
   "cell_type": "code",
   "execution_count": 19,
   "metadata": {},
   "outputs": [],
   "source": [
    "newspec=spectrum((newdata[:,:,55:75,55:80]))"
   ]
  },
  {
   "cell_type": "code",
   "execution_count": 20,
   "metadata": {},
   "outputs": [
    {
     "name": "stdout",
     "output_type": "stream",
     "text": [
      "(1, 79)\n"
     ]
    }
   ],
   "source": [
    "print(newspec.shape)"
   ]
  },
  {
   "cell_type": "code",
   "execution_count": 21,
   "metadata": {},
   "outputs": [
    {
     "data": {
      "text/plain": [
       "(79,)"
      ]
     },
     "execution_count": 21,
     "metadata": {},
     "output_type": "execute_result"
    }
   ],
   "source": [
    "newspec=np.squeeze(newspec)\n",
    "newspec.shape"
   ]
  },
  {
   "cell_type": "code",
   "execution_count": 30,
   "metadata": {},
   "outputs": [
    {
     "data": {
      "text/plain": [
       "[<matplotlib.lines.Line2D at 0x7ff5ca27ad00>]"
      ]
     },
     "execution_count": 30,
     "metadata": {},
     "output_type": "execute_result"
    },
    {
     "data": {
      "image/png": "[encoded data removed]",
      "text/plain": [
       "<Figure size 432x288 with 1 Axes>"
      ]
     },
     "metadata": {
      "needs_background": "light"
     },
     "output_type": "display_data"
    }
   ],
   "source": [
    "plt.step(np.arange(newspec.shape[0]),newspec)\n",
    "plt.step(np.arange(casadata.shape[0]),casadata)"
   ]
  },
  {
   "cell_type": "code",
   "execution_count": 24,
   "metadata": {},
   "outputs": [
    {
     "name": "stdout",
     "output_type": "stream",
     "text": [
      "SIMPLE  =                    T /Standard FITS                                   BITPIX  =                  -32 /Floating point (32 bit)                         NAXIS   =                    4                                                  NAXIS1  =                  128                                                  NAXIS2  =                  128                                                  NAXIS3  =                   79                                                  NAXIS4  =                    1                                                  EXTEND  =                    T                                                  BSCALE  =   1.000000000000E+00 /PHYSICAL = PIXEL*BSCALE + BZERO                 BZERO   =   0.000000000000E+00                                                  BTYPE   = 'Intensity'                                                           OBJECT  = 'HE1029-1831'                                                                                                                                         BUNIT   = 'Jy/beam '           /Brightness (pixel) unit                         RADESYS = 'ICRS    '                                                            LONPOLE =   1.800000000000E+02                                                  LATPOLE =  -1.877593333000E+01                                                  PC1_1   =   1.000000000000E+00                                                  PC2_1   =   0.000000000000E+00                                                  PC3_1   =   0.000000000000E+00                                                  PC4_1   =   0.000000000000E+00                                                  PC1_2   =   0.000000000000E+00                                                  PC2_2   =   1.000000000000E+00                                                  PC3_2   =   0.000000000000E+00                                                  PC4_2   =   0.000000000000E+00                                                  PC1_3   =   0.000000000000E+00                                                  PC2_3   =   0.000000000000E+00                                                  PC3_3   =   1.000000000000E+00                                                  PC4_3   =   0.000000000000E+00                                                  PC1_4   =   0.000000000000E+00                                                  PC2_4   =   0.000000000000E+00                                                  PC3_4   =   0.000000000000E+00                                                  PC4_4   =   1.000000000000E+00                                                  CTYPE1  = 'RA---SIN'                                                            CRVAL1  =   1.579888750000E+02                                                  CDELT1  =  -4.527777777778E-05                                                  CRPIX1  =   6.500000000000E+01                                                  CUNIT1  = 'deg     '                                                            CTYPE2  = 'DEC--SIN'                                                            CRVAL2  =  -1.877593333000E+01                                                  CDELT2  =   4.527777777778E-05                                                  CRPIX2  =   6.500000000000E+01                                                  CUNIT2  = 'deg     '                                                            CTYPE3  = 'FREQ    '                                                            CRVAL3  =   3.414469548517E+11                                                  CDELT3  =  -2.365700646130E+07                                                  CRPIX3  =   1.000000000000E+00                                                  CUNIT3  = 'Hz      '                                                            CTYPE4  = 'STOKES  '                                                            CRVAL4  =   1.000000000000E+00                                                  CDELT4  =   1.000000000000E+00                                                  CRPIX4  =   1.000000000000E+00                                                  CUNIT4  = '        '                                                            PV2_1   =   0.000000000000E+00                                                  PV2_2   =   0.000000000000E+00                                                  RESTFRQ =   3.546096057970E+11 /Rest Frequency (Hz)                             SPECSYS = 'BARYCENT'           /Spectral reference frame                        ALTRVAL =   1.112790916029E+07 /Alternate frequency reference value             ALTRPIX =   1.000000000000E+00 /Alternate frequency reference pixel             VELREF  =                  258 /1 LSR, 2 HEL, 3 OBS, +256 Radio                 COMMENT casacore non-standard usage: 4 LSD, 5 GEO, 6 SOU, 7 GAL                 TELESCOP= 'ALMA    '                                                            OBSERVER= 'timdavis'                                                            DATE-OBS= '2018-05-18T00:38:43.008001'                                          TIMESYS = 'UTC     '                                                            OBSRA   =   1.579888750000E+02                                                  OBSDEC  =  -1.877593333000E+01                                                  OBSGEO-X=   2.225142180269E+06                                                  OBSGEO-Y=  -5.440307370349E+06                                                  OBSGEO-Z=  -2.481029851874E+06                                                  OBJECT  = 'HE1029-1831'                                                         TELESCOP= 'ALMA    '                                                            INSTRUME= 'ALMA    '                                                            DISTANCE=   0.000000000000E+00                                                  DATE    = '2022-01-17T16:10:36.666000' /Date FITS file was written              ORIGIN  = 'CASA 5.1.1-5'                                                        CASAMBM =                    T /CASA multiple BEAMS table present               END                                                                                                                                                                                                                                                                                                                                                                                                                                                                                                                                                                                                                                                                                                                                                                                                                                                                                                                                                                                                                                                                                                                                                                                                                                                                                                                                                                                                                                                                                                                                                                                                                                                                                                                                                                                                                                                                                                                                                                                                                                                                                                                                                                                                                                                                                                                                                                                                                                                                                                                                                                             \n"
     ]
    }
   ],
   "source": [
    "print(newhdr)"
   ]
  },
  {
   "cell_type": "code",
   "execution_count": null,
   "metadata": {},
   "outputs": [],
   "source": []
  }
 ],
 "metadata": {
  "kernelspec": {
   "display_name": "Python 3 (ipykernel)",
   "language": "python",
   "name": "python3"
  },
  "language_info": {
   "codemirror_mode": {
    "name": "ipython",
    "version": 3
   },
   "file_extension": ".py",
   "mimetype": "text/x-python",
   "name": "python",
   "nbconvert_exporter": "python",
   "pygments_lexer": "ipython3",
   "version": "3.9.12"
  }
 },
 "nbformat": 4,
 "nbformat_minor": 4
}
