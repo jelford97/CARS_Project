{
 "cells": [
  {
   "cell_type": "code",
   "execution_count": 1,
   "id": "c48aef4d",
   "metadata": {},
   "outputs": [],
   "source": [
    "from astropy.io import fits\n",
    "import numpy as np"
   ]
  },
  {
   "cell_type": "code",
   "execution_count": 27,
   "id": "7a6e690b",
   "metadata": {},
   "outputs": [],
   "source": [
    "hdumaps=fits.open('/Users/jelford/Documents/PhD_Work/CARS_Data/HE1029/HE1029-1831.MUSE.WFM-NOAO.maps-full.fits')\n",
    "hdumom=fits.open('/Users/jelford/Documents/PhD_Work/CARS_Data/HE1029/HE1029MuseMom1.fits')\n",
    "hducube=fits.open('/Users/jelford/Documents/PhD_Work/CARS_Data/HE1029/HE1029-1831.MUSE.WFM-NOAO.observed.fits.gz')"
   ]
  },
  {
   "cell_type": "code",
   "execution_count": 28,
   "id": "b17a907e",
   "metadata": {},
   "outputs": [],
   "source": [
    "hdumapshd=hdumaps[23].header\n",
    "hdumomhd=hdumom[0].header\n",
    "hducubehd=hducube[0].header"
   ]
  },
  {
   "cell_type": "code",
   "execution_count": 29,
   "id": "8c51f98c",
   "metadata": {},
   "outputs": [],
   "source": [
    "hdumomdata=hdumom[0].data"
   ]
  },
  {
   "cell_type": "code",
   "execution_count": 30,
   "id": "e1708a28",
   "metadata": {},
   "outputs": [],
   "source": [
    "momshape=hdumomdata.shape"
   ]
  },
  {
   "cell_type": "code",
   "execution_count": 31,
   "id": "77e77c7b",
   "metadata": {},
   "outputs": [
    {
     "data": {
      "text/plain": [
       "(314, 317)"
      ]
     },
     "execution_count": 31,
     "metadata": {},
     "output_type": "execute_result"
    }
   ],
   "source": [
    "momshape"
   ]
  },
  {
   "cell_type": "code",
   "execution_count": 35,
   "id": "5ab2948c",
   "metadata": {},
   "outputs": [],
   "source": [
    "x=np.arange(-157,157)"
   ]
  },
  {
   "cell_type": "code",
   "execution_count": 36,
   "id": "37c40992",
   "metadata": {},
   "outputs": [
    {
     "data": {
      "text/plain": [
       "(314,)"
      ]
     },
     "execution_count": 36,
     "metadata": {},
     "output_type": "execute_result"
    }
   ],
   "source": [
    "x.shape"
   ]
  },
  {
   "cell_type": "code",
   "execution_count": 37,
   "id": "26f9a8e8",
   "metadata": {},
   "outputs": [
    {
     "data": {
      "text/plain": [
       "0"
      ]
     },
     "execution_count": 37,
     "metadata": {},
     "output_type": "execute_result"
    }
   ],
   "source": [
    "x[157]"
   ]
  },
  {
   "cell_type": "code",
   "execution_count": null,
   "id": "0c1cf3eb",
   "metadata": {},
   "outputs": [],
   "source": []
  }
 ],
 "metadata": {
  "kernelspec": {
   "display_name": "Python 3 (ipykernel)",
   "language": "python",
   "name": "python3"
  },
  "language_info": {
   "codemirror_mode": {
    "name": "ipython",
    "version": 3
   },
   "file_extension": ".py",
   "mimetype": "text/x-python",
   "name": "python",
   "nbconvert_exporter": "python",
   "pygments_lexer": "ipython3",
   "version": "3.9.12"
  }
 },
 "nbformat": 4,
 "nbformat_minor": 5
}
