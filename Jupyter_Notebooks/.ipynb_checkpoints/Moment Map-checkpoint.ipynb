{
 "cells": [
  {
   "cell_type": "code",
   "execution_count": 1,
   "metadata": {},
   "outputs": [],
   "source": [
    "from astropy.io import fits\n",
    "import matplotlib.pyplot as plt\n",
    "import numpy as np\n",
    "from scipy import ndimage\n",
    "from scipy import integrate\n",
    "from sauron_colormap import sauron\n",
    "import pandas as pd\n",
    "import math"
   ]
  },
  {
   "cell_type": "code",
   "execution_count": 2,
   "metadata": {},
   "outputs": [],
   "source": [
    "def smooth_mask(cube,beam,chans2look,rmsfac=3):\n",
    "    mask=ndimage.uniform_filter(cube,size=[4,beam*1.5,beam*1.5])\n",
    "    quart=np.floor(np.array(cube.shape)/8.).astype(np.int)\n",
    "    half=np.floor(np.array(cube.shape)/2.).astype(np.int)\n",
    "    #print(half, quart)\n",
    "    rms=np.nanstd(mask[chans2look[0]:chans2look[1],half[1]-quart[1]:half[1]+quart[1],half[2]-quart[2]:half[2]+quart[2]])\n",
    "    return mask>rms*rmsfac"
   ]
  },
  {
   "cell_type": "code",
   "execution_count": 3,
   "metadata": {},
   "outputs": [],
   "source": [
    "def spectrum(cube):\n",
    "    spec=np.nansum(np.nansum(cube,axis=1),axis=1)\n",
    "    return spec"
   ]
  },
  {
   "cell_type": "code",
   "execution_count": 4,
   "metadata": {},
   "outputs": [],
   "source": [
    "param=pd.read_csv('/home/jacob/Documents/CARS/Cars_parameters.csv')\n",
    "cs=param[param['Line']=='CS']\n",
    "hco=param[param['Line']=='HCO+']\n",
    "hcn=param[param['Line']=='HCN']"
   ]
  },
  {
   "cell_type": "code",
   "execution_count": 5,
   "metadata": {},
   "outputs": [],
   "source": [
    "csnoflux=[]\n",
    "csnoerr=[]\n",
    "csflux=[]\n",
    "cserr=[]\n",
    "for i in range(len(cs['Galaxy & Line'])):\n",
    "    csdect=np.array(cs['All line detection'])\n",
    "    csrms=np.array(cs['RMS'])\n",
    "    cslw=np.array(cs['Linewidth'])\n",
    "    csbeam=np.array(cs['Beam Size'])\n",
    "    if csdect[i]=='No':\n",
    "        csf=3*csrms[i]*cslw[i]*csbeam[i]\n",
    "        csnoflux.append(csf)\n",
    "        cserror=csrms[i]\n",
    "        csnoerr.append(cserror)\n",
    "    else:\n",
    "        cspath=cs['File Path']\n",
    "        csfilepath=np.array(cspath)\n",
    "        csminh=np.array(cs['Height Min'])\n",
    "        csmaxh=np.array(cs['Height Max'])\n",
    "        csminw=np.array(cs['Width Min'])\n",
    "        csmaxw=np.array(cs['Width Max'])\n",
    "        csminchn=np.array(cs['Min Chan'])\n",
    "        csmaxchn=np.array(cs['Max Chan'])\n",
    "        csnchan=np.array(cs['Nchan'])\n",
    "        cschnwdth=np.array(cs['Channel Width'])\n",
    "        hducs=fits.open(csfilepath[i])\n",
    "        datacs=hducs[0].data\n",
    "        datancs=np.squeeze(datacs)\n",
    "        datanancs=np.nan_to_num(datancs)\n",
    "        databeamcs=datanancs*csbeam[i]\n",
    "        speccs=spectrum(databeamcs[csminchn[i]:csmaxchn[i],csminh[i]:csmaxh[i],csminw[i]:csmaxw[i]])\n",
    "        csint=np.sum(speccs)*cschnwdth[i]\n",
    "        csflux.append(csint)\n",
    "        cserror=np.sqrt(csnchan[i])*csbeam[i]*csrms[i]*cschnwdth[i]\n",
    "        cserr.append(cserror)"
   ]
  },
  {
   "cell_type": "code",
   "execution_count": 6,
   "metadata": {},
   "outputs": [],
   "source": [
    "hcoflux=[]\n",
    "hcoerr=[]\n",
    "hconoflux=[]\n",
    "hconoerr=[]\n",
    "for i in range(len(hco['Galaxy & Line'])):\n",
    "    hcodect=np.array(hco['All line detection'])\n",
    "    if hcodect[i]=='No':\n",
    "        hcopath=hco['File Path']\n",
    "        hcofilepath=np.array(hcopath)\n",
    "        hcobeam=np.array(hco['Beam Size'])\n",
    "        hcominh=np.array(hco['Height Min'])\n",
    "        hcomaxh=np.array(hco['Height Max'])\n",
    "        hcominw=np.array(hco['Width Min'])\n",
    "        hcomaxw=np.array(hco['Width Max'])\n",
    "        hcominchn=np.array(hco['Min Chan'])\n",
    "        hcomaxchn=np.array(hco['Max Chan'])\n",
    "        hconchan=np.array(hco['Nchan'])\n",
    "        hcochnwdth=np.array(hco['Channel Width'])\n",
    "        hcorms=np.array(hco['RMS'])\n",
    "        hduhco=fits.open(hcofilepath[i])\n",
    "        datahco=hduhco[0].data\n",
    "        datanhco=np.squeeze(datahco)\n",
    "        datananhco=np.nan_to_num(datanhco)\n",
    "        databeamhco=datananhco*hcobeam[i]\n",
    "        spechco=spectrum(databeamhco[hcominchn[i]:hcomaxchn[i],hcominh[i]:hcomaxh[i],hcominw[i]:hcomaxw[i]])\n",
    "        hcoint=np.sum(spechco)*hcochnwdth[i]\n",
    "        hconoflux.append(hcoint)\n",
    "        hcoerror=np.sqrt(hconchan[i])*hcobeam[i]*hcorms[i]*hcochnwdth[i]\n",
    "        hconoerr.append(hcoerror)\n",
    "    else:\n",
    "        hcopath=hco['File Path']\n",
    "        hcofilepath=np.array(hcopath)\n",
    "        hcobeam=np.array(hco['Beam Size'])\n",
    "        hcominh=np.array(hco['Height Min'])\n",
    "        hcomaxh=np.array(hco['Height Max'])\n",
    "        hcominw=np.array(hco['Width Min'])\n",
    "        hcomaxw=np.array(hco['Width Max'])\n",
    "        hcominchn=np.array(hco['Min Chan'])\n",
    "        hcomaxchn=np.array(hco['Max Chan'])\n",
    "        hconchan=np.array(hco['Nchan'])\n",
    "        hcochnwdth=np.array(hco['Channel Width'])\n",
    "        hcorms=np.array(hco['RMS'])\n",
    "        hduhco=fits.open(hcofilepath[i])\n",
    "        datahco=hduhco[0].data\n",
    "        datanhco=np.squeeze(datahco)\n",
    "        datananhco=np.nan_to_num(datanhco)\n",
    "        databeamhco=datananhco*hcobeam[i]\n",
    "        spechco=spectrum(databeamhco[hcominchn[i]:hcomaxchn[i],hcominh[i]:hcomaxh[i],hcominw[i]:hcomaxw[i]])\n",
    "        hcoint=np.sum(spechco)*hcochnwdth[i]\n",
    "        hcoflux.append(hcoint)\n",
    "        hcoerror=np.sqrt(hconchan[i])*hcobeam[i]*hcorms[i]*hcochnwdth[i]\n",
    "        hcoerr.append(hcoerror)"
   ]
  },
  {
   "cell_type": "code",
   "execution_count": 7,
   "metadata": {},
   "outputs": [],
   "source": [
    "hcnflux=[]\n",
    "hcnerr=[]\n",
    "hcnnoflux=[]\n",
    "hcnnoerr=[]\n",
    "for i in range(len(hcn['Galaxy & Line'])):\n",
    "    hcndect=np.array(hcn['All line detection'])\n",
    "    if hcndect[i]=='No':\n",
    "        hcnpath=hcn['File Path']\n",
    "        hcnfilepath=np.array(hcnpath)\n",
    "        hcnbeam=np.array(hcn['Beam Size'])\n",
    "        hcnminh=np.array(hcn['Height Min'])\n",
    "        hcnmaxh=np.array(hcn['Height Max'])\n",
    "        hcnminw=np.array(hcn['Width Min'])\n",
    "        hcnmaxw=np.array(hcn['Width Max'])\n",
    "        hcnminchn=np.array(hcn['Min Chan'])\n",
    "        hcnmaxchn=np.array(hcn['Max Chan'])\n",
    "        hcnnchan=np.array(hcn['Nchan'])\n",
    "        hcnchnwdth=np.array(hcn['Channel Width'])\n",
    "        hcnrms=np.array(hcn['RMS'])\n",
    "        hduhcn=fits.open(hcnfilepath[i])\n",
    "        datahcn=hduhcn[0].data\n",
    "        datanhcn=np.squeeze(datahcn)\n",
    "        datananhcn=np.nan_to_num(datanhcn)\n",
    "        databeamhcn=datananhcn*hcnbeam[i]\n",
    "        spechcn=spectrum(databeamhcn[hcnminchn[i]:hcnmaxchn[i],hcnminh[i]:hcnmaxh[i],hcnminw[i]:hcnmaxw[i]])\n",
    "        hcnint=np.sum(spechcn)*hcnchnwdth[i]\n",
    "        hcnnoflux.append(hcnint)\n",
    "        hcnerror=np.sqrt(hcnnchan[i])*hcnbeam[i]*hcnrms[i]*hcnchnwdth[i]\n",
    "        hcnnoerr.append(hcnerror)\n",
    "    else:\n",
    "        hcnpath=hcn['File Path']\n",
    "        hcnfilepath=np.array(hcnpath)\n",
    "        hcnbeam=np.array(hcn['Beam Size'])\n",
    "        hcnminh=np.array(hcn['Height Min'])\n",
    "        hcnmaxh=np.array(hcn['Height Max'])\n",
    "        hcnminw=np.array(hcn['Width Min'])\n",
    "        hcnmaxw=np.array(hcn['Width Max'])\n",
    "        hcnminchn=np.array(hcn['Min Chan'])\n",
    "        hcnmaxchn=np.array(hcn['Max Chan'])\n",
    "        hcnnchan=np.array(hcn['Nchan'])\n",
    "        hcnchnwdth=np.array(hcn['Channel Width'])\n",
    "        hcnrms=np.array(hcn['RMS'])\n",
    "        hduhcn=fits.open(hcnfilepath[i])\n",
    "        datahcn=hduhcn[0].data\n",
    "        datanhcn=np.squeeze(datahcn)\n",
    "        datananhcn=np.nan_to_num(datanhcn)\n",
    "        databeamhcn=datananhcn*hcnbeam[i]\n",
    "        spechcn=spectrum(databeamhcn[hcnminchn[i]:hcnmaxchn[i],hcnminh[i]:hcnmaxh[i],hcnminw[i]:hcnmaxw[i]])\n",
    "        hcnint=np.sum(spechcn)*hcnchnwdth[i]\n",
    "        hcnflux.append(hcnint)\n",
    "        hcnerror=np.sqrt(hcnnchan[i])*hcnbeam[i]*hcnrms[i]*hcnchnwdth[i]\n",
    "        hcnerr.append(hcnerror)\n",
    "\n",
    "        "
   ]
  },
  {
   "cell_type": "code",
   "execution_count": 8,
   "metadata": {},
   "outputs": [],
   "source": [
    "hcnhcoerrmax=[]\n",
    "hcnhcoerrmin=[]\n",
    "hcnhconoerrmax=[]\n",
    "hcnhconoerrmin=[]\n",
    "hcndect=np.array(hcn[hcn['All line detection']=='Yes'])\n",
    "hcnnodect=np.array(hcn[hcn['All line detection']=='No'])\n",
    "for i in range(len(hcndect)):\n",
    "    hcn_hcoerr=(hcnflux[i]+np.random.normal(0,hcnerr[i],1000))/(hcoflux[i]+np.random.normal(0,hcoerr[i],1000))\n",
    "    lowerhco=np.percentile(hcn_hcoerr,16)\n",
    "    upperhco=np.percentile(hcn_hcoerr,84)\n",
    "    hcnhcoerrmax.append(upperhco)\n",
    "    hcnhcoerrmin.append(lowerhco)\n",
    "for i in range(len(hcnnodect)):\n",
    "    hcn_hconoerr=(hcnnoflux[i]+np.random.normal(0,hcnnoerr[i],1000))/(hconoflux[i]+np.random.normal(0,hconoerr[i],1000))\n",
    "    lowernohco=np.percentile(hcn_hconoerr,16)\n",
    "    uppernohco=np.percentile(hcn_hconoerr,84)\n",
    "    hcnhconoerrmax.append(uppernohco)\n",
    "    hcnhconoerrmin.append(lowernohco)"
   ]
  },
  {
   "cell_type": "code",
   "execution_count": 9,
   "metadata": {},
   "outputs": [],
   "source": [
    "hcncserrmax=[]\n",
    "hcncserrmin=[]\n",
    "hcncsnoerrmax=[]\n",
    "hcncsnoerrmin=[]\n",
    "csdect=np.array(cs[cs['All line detection']=='Yes'])\n",
    "csnodect=np.array(cs[cs['All line detection']=='No'])\n",
    "for i in range(len(csdect)):\n",
    "    hcn_cserr=(hcnflux[i]+np.random.normal(0,hcnerr[i],1000))/(csflux[i]+np.random.normal(0,cserr[i],1000))\n",
    "    lowercs=np.percentile(hcn_cserr,16)\n",
    "    uppercs=np.percentile(hcn_cserr,84)\n",
    "    hcncserrmax.append(uppercs)\n",
    "    hcncserrmin.append(lowercs)\n",
    "for i in range(len(csnodect)):\n",
    "    hcn_csnoerr=(hcnnoflux[i]+np.random.normal(0,hcnnoerr[i],1000))/(csnoflux[i]+np.random.normal(0,csnoerr[i],1000))\n",
    "    lowernocs=np.percentile(hcn_csnoerr,16)\n",
    "    uppernocs=np.percentile(hcn_csnoerr,84)\n",
    "    hcncsnoerrmax.append(uppernocs)\n",
    "    hcncsnoerrmin.append(lowernocs)"
   ]
  },
  {
   "cell_type": "code",
   "execution_count": 10,
   "metadata": {},
   "outputs": [],
   "source": [
    "iz=pd.read_csv('/home/jacob/Documents/Izumi.csv')"
   ]
  },
  {
   "cell_type": "code",
   "execution_count": 11,
   "metadata": {},
   "outputs": [],
   "source": [
    "AGN=iz[iz['Type']=='AGN']\n",
    "SB=iz[iz['Type']=='SB']\n",
    "hcn_hco=np.array(hcnflux)/np.array(hcoflux)\n",
    "hcn_cs=np.array(hcnflux)/np.array(csflux)\n",
    "hcn_hco_no=np.array(hcnnoflux)/np.array(hconoflux)\n",
    "hcn_cs_no=np.array(hcnnoflux)/np.array(csnoflux)"
   ]
  },
  {
   "cell_type": "code",
   "execution_count": 13,
   "metadata": {},
   "outputs": [
    {
     "data": {
      "image/png": "[encoded data removed]",
      "text/plain": [
       "<Figure size 432x288 with 1 Axes>"
      ]
     },
     "metadata": {
      "needs_background": "light"
     },
     "output_type": "display_data"
    }
   ],
   "source": [
    "plt.plot(AGN['HCN/HCO'],AGN['HCN/CS'],'o',color='red')\n",
    "plt.errorbar(AGN['HCN/HCO'],AGN['HCN/CS'],xerr=AGN['Error1'],yerr=AGN['Error2'],fmt='none',ecolor='red')\n",
    "plt.plot(SB['HCN/HCO'],SB['HCN/CS'],'o',color='blue')\n",
    "plt.errorbar(SB['HCN/HCO'],SB['HCN/CS'],xerr=SB['Error1'],yerr=SB['Error2'],fmt='none',ecolor='blue')\n",
    "plt.plot(hcn_hco,hcn_cs,'o',color='orange')\n",
    "plt.plot(hcn_hco_no,hcn_cs_no,'v',color='orange')\n",
    "plt.hlines(hcn_cs,hcnhcoerrmax,hcnhcoerrmin,color='orange')\n",
    "plt.vlines(hcn_hco,hcncserrmax,hcncserrmin,color='orange')\n",
    "plt.hlines(hcn_cs_no,hcnhconoerrmax,hcnhconoerrmin,color='orange')\n",
    "plt.vlines(hcn_hco_no,hcncsnoerrmax,hcncsnoerrmin,color='orange')\n",
    "plt.xlabel('HCN/HCO')\n",
    "plt.ylabel('HCN/CS')\n",
    "plt.savefig('HCN_diagram.png')"
   ]
  },
  {
   "cell_type": "code",
   "execution_count": null,
   "metadata": {},
   "outputs": [],
   "source": []
  }
 ],
 "metadata": {
  "kernelspec": {
   "display_name": "Python 3 (ipykernel)",
   "language": "python",
   "name": "python3"
  },
  "language_info": {
   "codemirror_mode": {
    "name": "ipython",
    "version": 3
   },
   "file_extension": ".py",
   "mimetype": "text/x-python",
   "name": "python",
   "nbconvert_exporter": "python",
   "pygments_lexer": "ipython3",
   "version": "3.9.12"
  }
 },
 "nbformat": 4,
 "nbformat_minor": 4
}
