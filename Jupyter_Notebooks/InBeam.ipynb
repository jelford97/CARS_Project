{
 "cells": [
  {
   "cell_type": "code",
   "execution_count": 1,
   "id": "541340e0",
   "metadata": {},
   "outputs": [],
   "source": [
    "from astropy.io import fits\n",
    "import matplotlib.pyplot as plt\n",
    "import numpy as np\n",
    "from scipy import ndimage"
   ]
  },
  {
   "cell_type": "code",
   "execution_count": 2,
   "id": "6caf36ed",
   "metadata": {},
   "outputs": [],
   "source": [
    "hdu=fits.open('/Users/jelford/Documents/PhD_Work/CARS_Data/HE1029/HE1029-1831.MUSE.WFM-NOAO.maps-full.fits')"
   ]
  },
  {
   "cell_type": "code",
   "execution_count": 3,
   "id": "fb19fa6b",
   "metadata": {},
   "outputs": [],
   "source": [
    "OIII=hdu[11].data\n",
    "OIIIhead=hdu[11].header"
   ]
  },
  {
   "cell_type": "code",
   "execution_count": 4,
   "id": "16e9a806",
   "metadata": {},
   "outputs": [],
   "source": [
    "Hbeta=hdu[13].data\n",
    "Hbetahead=hdu[13].header"
   ]
  },
  {
   "cell_type": "code",
   "execution_count": 5,
   "id": "05f89e55",
   "metadata": {},
   "outputs": [],
   "source": [
    "NII=hdu[23].data\n",
    "Halpha=hdu[9].data"
   ]
  },
  {
   "cell_type": "code",
   "execution_count": 6,
   "id": "24e60efb",
   "metadata": {},
   "outputs": [],
   "source": [
    "def dist(NX,NY,beamsize,RApixel,DECpixel,C):\n",
    "    X=np.arange(NX)\n",
    "    Y=np.arange(NY)\n",
    "    RAaxis=np.abs(((X-RApixel)*C))\n",
    "    DECaxis=np.abs(((Y-DECpixel)*C))\n",
    "    im=np.empty([NY,NX])\n",
    "    for i in range(0,NX):\n",
    "        for j in range(0,NY):\n",
    "            im[j,i]=np.sqrt(RAaxis[i]**2+DECaxis[j]**2)\n",
    "    return im<beamsize"
   ]
  },
  {
   "cell_type": "code",
   "execution_count": 7,
   "id": "20c03e36",
   "metadata": {},
   "outputs": [
    {
     "name": "stderr",
     "output_type": "stream",
     "text": [
      "/var/folders/n9/nt30fqmx2q30zv_d6qxt4td80000gn/T/ipykernel_50650/2090982482.py:1: DeprecationWarning: `np.int` is a deprecated alias for the builtin `int`. To silence this warning, use `int` by itself. Doing this will not modify any behavior and is safe. When replacing `np.int`, you may wish to use e.g. `np.int64` or `np.int32` to specify the precision. If you wish to review your current use, check the release note link for additional information.\n",
      "Deprecated in NumPy 1.20; for more details and guidance: https://numpy.org/devdocs/release/1.20.0-notes.html#deprecations\n",
      "  RApix=np.int(OIIIhead['CRPIX1'])\n",
      "/var/folders/n9/nt30fqmx2q30zv_d6qxt4td80000gn/T/ipykernel_50650/2090982482.py:2: DeprecationWarning: `np.int` is a deprecated alias for the builtin `int`. To silence this warning, use `int` by itself. Doing this will not modify any behavior and is safe. When replacing `np.int`, you may wish to use e.g. `np.int64` or `np.int32` to specify the precision. If you wish to review your current use, check the release note link for additional information.\n",
      "Deprecated in NumPy 1.20; for more details and guidance: https://numpy.org/devdocs/release/1.20.0-notes.html#deprecations\n",
      "  DECpix=np.int(OIIIhead['CRPIX2'])\n"
     ]
    }
   ],
   "source": [
    "RApix=np.int(OIIIhead['CRPIX1'])\n",
    "DECpix=np.int(OIIIhead['CRPIX2'])\n",
    "Xaxis=OIIIhead['NAXIS1']\n",
    "Yaxis=OIIIhead['NAXIS2']\n",
    "Cell=np.abs(OIIIhead['CD1_1'])"
   ]
  },
  {
   "cell_type": "code",
   "execution_count": 8,
   "id": "d504ad95",
   "metadata": {},
   "outputs": [],
   "source": [
    "imbeam=dist(Xaxis,Yaxis,0.2/3600,RApix,DECpix,Cell)"
   ]
  },
  {
   "cell_type": "code",
   "execution_count": 9,
   "id": "b6d7a406",
   "metadata": {},
   "outputs": [],
   "source": [
    "OIIIimbeam=OIII*imbeam\n",
    "Hbetaimbeam=Hbeta*imbeam\n",
    "NIIimbeam=NII*imbeam\n",
    "Halphaimbeam=Halpha*imbeam"
   ]
  },
  {
   "cell_type": "code",
   "execution_count": 11,
   "id": "c4bc5492",
   "metadata": {},
   "outputs": [
    {
     "name": "stderr",
     "output_type": "stream",
     "text": [
      "/var/folders/n9/nt30fqmx2q30zv_d6qxt4td80000gn/T/ipykernel_50650/3125486902.py:1: RuntimeWarning: invalid value encountered in true_divide\n",
      "  X_R=np.reshape(NIIimbeam/Halphaimbeam,99538)\n",
      "/var/folders/n9/nt30fqmx2q30zv_d6qxt4td80000gn/T/ipykernel_50650/3125486902.py:2: RuntimeWarning: invalid value encountered in true_divide\n",
      "  Y_R=np.reshape(OIIIimbeam/Hbetaimbeam,99538)\n"
     ]
    }
   ],
   "source": [
    "X_R=np.reshape(NIIimbeam/Halphaimbeam,99538)\n",
    "Y_R=np.reshape(OIIIimbeam/Hbetaimbeam,99538)"
   ]
  },
  {
   "cell_type": "code",
   "execution_count": 12,
   "id": "4aa10022",
   "metadata": {},
   "outputs": [
    {
     "name": "stderr",
     "output_type": "stream",
     "text": [
      "/var/folders/n9/nt30fqmx2q30zv_d6qxt4td80000gn/T/ipykernel_50650/638123760.py:1: RuntimeWarning: invalid value encountered in log10\n",
      "  plt.plot(np.log10(X_R),np.log10(Y_R),'o')\n"
     ]
    },
    {
     "data": {
      "text/plain": [
       "[<matplotlib.lines.Line2D at 0x7f92ea1bbeb0>]"
      ]
     },
     "execution_count": 12,
     "metadata": {},
     "output_type": "execute_result"
    },
    {
     "data": {
      "image/png": "[encoded data removed]",
      "text/plain": [
       "<Figure size 432x288 with 1 Axes>"
      ]
     },
     "metadata": {
      "needs_background": "light"
     },
     "output_type": "display_data"
    }
   ],
   "source": [
    "plt.plot(np.log10(X_R),np.log10(Y_R),'o')"
   ]
  },
  {
   "cell_type": "code",
   "execution_count": 13,
   "id": "aef364f8",
   "metadata": {},
   "outputs": [
    {
     "data": {
      "text/plain": [
       "(210.0, 240.0)"
      ]
     },
     "execution_count": 13,
     "metadata": {},
     "output_type": "execute_result"
    },
    {
     "data": {
      "image/png": "[encoded data removed]",
      "text/plain": [
       "<Figure size 432x288 with 1 Axes>"
      ]
     },
     "metadata": {
      "needs_background": "light"
     },
     "output_type": "display_data"
    }
   ],
   "source": [
    "plt.imshow(OIIIimbeam)\n",
    "plt.xlim(140,180)\n",
    "plt.ylim(210,240)"
   ]
  },
  {
   "cell_type": "code",
   "execution_count": 14,
   "id": "daee44b5",
   "metadata": {},
   "outputs": [
    {
     "data": {
      "text/plain": [
       "(array([219, 219, 219, 220]), array([155, 156, 157, 156]))"
      ]
     },
     "execution_count": 14,
     "metadata": {},
     "output_type": "execute_result"
    }
   ],
   "source": [
    "np.where(OIIIimbeam>0)"
   ]
  },
  {
   "cell_type": "code",
   "execution_count": 15,
   "id": "cc9dedc4",
   "metadata": {},
   "outputs": [
    {
     "data": {
      "text/plain": [
       "(array([218, 219, 219, 219, 220]), array([156, 155, 156, 157, 156]))"
      ]
     },
     "execution_count": 15,
     "metadata": {},
     "output_type": "execute_result"
    }
   ],
   "source": [
    "np.where(Hbetaimbeam>0)"
   ]
  },
  {
   "cell_type": "code",
   "execution_count": 16,
   "id": "6f1f1ecf",
   "metadata": {},
   "outputs": [
    {
     "data": {
      "text/plain": [
       "1.258603"
      ]
     },
     "execution_count": 16,
     "metadata": {},
     "output_type": "execute_result"
    }
   ],
   "source": [
    "Hbetaimbeam[219,155]"
   ]
  },
  {
   "cell_type": "code",
   "execution_count": 17,
   "id": "4d9af1df",
   "metadata": {},
   "outputs": [
    {
     "data": {
      "text/plain": [
       "1.2787654"
      ]
     },
     "execution_count": 17,
     "metadata": {},
     "output_type": "execute_result"
    }
   ],
   "source": [
    "OIIIimbeam[219,155]"
   ]
  },
  {
   "cell_type": "code",
   "execution_count": null,
   "id": "0f0fbb7e",
   "metadata": {},
   "outputs": [],
   "source": []
  },
  {
   "cell_type": "code",
   "execution_count": null,
   "id": "0a4bc74c",
   "metadata": {},
   "outputs": [],
   "source": []
  }
 ],
 "metadata": {
  "kernelspec": {
   "display_name": "Python 3 (ipykernel)",
   "language": "python",
   "name": "python3"
  },
  "language_info": {
   "codemirror_mode": {
    "name": "ipython",
    "version": 3
   },
   "file_extension": ".py",
   "mimetype": "text/x-python",
   "name": "python",
   "nbconvert_exporter": "python",
   "pygments_lexer": "ipython3",
   "version": "3.9.12"
  }
 },
 "nbformat": 4,
 "nbformat_minor": 5
}
