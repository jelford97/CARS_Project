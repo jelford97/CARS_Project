{
 "cells": [
  {
   "cell_type": "code",
   "execution_count": 2,
   "id": "55ec2d66",
   "metadata": {},
   "outputs": [],
   "source": [
    "from astropy.io import fits"
   ]
  },
  {
   "cell_type": "code",
   "execution_count": 3,
   "id": "3887d054",
   "metadata": {},
   "outputs": [],
   "source": [
    "hdu=fits.open('/Users/jelford/Documents/PhD_Work/CARS_Data/HE0433/HE0433-1028.MUSE.WFM-NOAO.maps-full.fits')"
   ]
  },
  {
   "cell_type": "code",
   "execution_count": 4,
   "id": "7f64bd15",
   "metadata": {},
   "outputs": [],
   "source": [
    "head=hdu[11].header"
   ]
  },
  {
   "cell_type": "code",
   "execution_count": 5,
   "id": "c0d724da",
   "metadata": {},
   "outputs": [
    {
     "name": "stdout",
     "output_type": "stream",
     "text": [
      "XTENSION= 'IMAGE   '           / Image extension                                BITPIX  =                  -32 / array data type                                NAXIS   =                    2 / number of array dimensions                     NAXIS1  =                  318                                                  NAXIS2  =                  316                                                  PCOUNT  =                    0 / number of parameters                           GCOUNT  =                    1 / number of groups                               EXTNAME = 'OIII5007'           / extension name                                 BUNIT   = 'erg/s/cm**2'                                                         CRPIX1  =    151.2324523925781                                                  CRPIX2  =    158.5137786865234                                                  CD1_1   = -5.5555555555555E-05                                                  CD1_2   =                  0.0                                                  CD2_1   =                  0.0                                                  CD2_2   = 5.55555555555555E-05                                                  CUNIT1  = 'deg     '                                                            CUNIT2  = 'deg     '                                                            CTYPE1  = 'RA---TAN'                                                            CTYPE2  = 'DEC--TAN'                                                            CRVAL1  =       69.09291061972                                                  CRVAL2  =      -10.37610748376                                                  CHECKSUM= 'XN6rZL4oXL4oXL4o'   / HDU checksum updated 2021-09-15T20:50:10       DATASUM = '3349163519'         / data unit checksum updated 2021-09-15T20:50:10 END                                                                                                                                                                                                                                                                                                                                                                                                                                                                                                                                                                                                                                                                                                                                                                                                                                                                                                                                                                                                                                                                             \n"
     ]
    }
   ],
   "source": [
    "print(head)"
   ]
  },
  {
   "cell_type": "code",
   "execution_count": null,
   "id": "8cbbe529",
   "metadata": {},
   "outputs": [],
   "source": []
  }
 ],
 "metadata": {
  "kernelspec": {
   "display_name": "Python 3 (ipykernel)",
   "language": "python",
   "name": "python3"
  },
  "language_info": {
   "codemirror_mode": {
    "name": "ipython",
    "version": 3
   },
   "file_extension": ".py",
   "mimetype": "text/x-python",
   "name": "python",
   "nbconvert_exporter": "python",
   "pygments_lexer": "ipython3",
   "version": "3.9.12"
  }
 },
 "nbformat": 4,
 "nbformat_minor": 5
}
